{
 "cells": [
  {
   "cell_type": "code",
   "execution_count": null,
   "id": "0a24c783",
   "metadata": {},
   "outputs": [],
   "source": [
    "%matplotlib inline\n",
    "import matplotlib.pyplot as plt\n",
    "import numpy as np\n",
    "from astropy.io import ascii\n",
    "\n",
    "import matplotlib as mpl\n",
    "mpl.rc('font',**{'family':'sans-serif','size':12})\n",
    "# inward facing ticks\n",
    "mpl.rcParams['xtick.direction'] = 'in'\n",
    "mpl.rcParams['ytick.direction'] = 'in'\n",
    "\n",
    "from matplotlib.ticker import (MultipleLocator, FormatStrFormatter,\n",
    "                               AutoMinorLocator)"
   ]
  },
  {
   "cell_type": "markdown",
   "id": "192a91e0",
   "metadata": {},
   "source": [
    "# ASTR 3730 Astrophysics 1 Lab 2: Interpreting spectra\n",
    "\n",
    "### In this lab we will use optical spectra of a mystery object to gain physical insight.\n",
    "\n",
    "**Before the lab**, you should watch the pre-lab video on Canvas and look over the instructions and supporting figures for all objects. Pay particular attention to the units of the spectra (Flux density per wavelength, with wavelength in Angstroms).\n",
    "\n",
    "Choose **only one object** to analyze as instructed below, and write up the results to turn in for the lab.\n",
    "\n",
    "**Questions 1 and 2 should be completed before the recitation!**"
   ]
  },
  {
   "cell_type": "markdown",
   "id": "92d95fa2",
   "metadata": {},
   "source": [
    "# Step 0: Read and plot the spectra data file(s)\n",
    "\n",
    "### Type in \"1\", \"2\", or \"3\" in the first line below and run the cell to plot the spectrum of the first, second, or third mystery object.\n",
    "\n",
    "If you get an error, that means your spectrum data files are not in the same repository (folder) as this Notebook is in. To fix it, you can specify the full pathname of the file in the ascii.read('astr3730_lab2_objectx.csv') lines."
   ]
  },
  {
   "cell_type": "code",
   "execution_count": null,
   "id": "166a9713",
   "metadata": {},
   "outputs": [],
   "source": [
    "my_object = 1 # ENTER OBJECT NUMBER (1, 2, or 3) HERE\n",
    "\n",
    "if my_object==1:\n",
    "    data=ascii.read('astr3730_lab2_object1.csv',format='csv')\n",
    "    D_obj = 1.5 # distance to object in parsecs\n",
    "    \n",
    "    fig, ax = plt.subplots(figsize=(10,4))\n",
    "    plt.plot(data['wavelength'],data['flux']/1e-10)\n",
    "    plt.xlabel(r'wavelength $\\lambda$ ($\\AA$)',fontsize=16)\n",
    "    plt.ylabel(r'$F_\\lambda$ ($10^{-10}$ erg cm$^{-2}$ s$^{-1}$ $\\AA^{-1}$)',fontsize=16)\n",
    "    plt.xlim(2500,10500)\n",
    "    ax.xaxis.set_minor_locator(MultipleLocator(100))\n",
    "    ax.xaxis.set_major_locator(MultipleLocator(1000))\n",
    "\n",
    "    fig, ax = plt.subplots(figsize=(10,4))\n",
    "    plt.plot(data['wavelength'],data['flux']/1e-10)\n",
    "    plt.xlabel(r'wavelength $\\lambda$ ($\\AA$)',fontsize=16)\n",
    "    plt.ylabel(r'$F_\\lambda$ ($10^{-10}$ erg cm$^{-2}$ s$^{-1}$ $\\AA^{-1}$)',fontsize=16)\n",
    "    plt.xlim(6450,6700); plt.ylim(25,32)\n",
    "    ax.xaxis.set_minor_locator(MultipleLocator(5))\n",
    "    ax.xaxis.set_major_locator(MultipleLocator(50))\n",
    "elif my_object==2:\n",
    "    data=ascii.read('astr3730_lab2_object2.csv',format='csv')\n",
    "    D_obj = 5.1e4 # distance to object in parsecs\n",
    "    \n",
    "    fig, ax = plt.subplots(figsize=(10,4))\n",
    "    plt.plot(data['wavelength'],data['flux']/1e-10)\n",
    "    plt.xlabel(r'wavelength $\\lambda$ ($\\AA$)',fontsize=16)\n",
    "    plt.ylabel(r'$F_\\lambda$ ($10^{-10}$ erg cm$^{-2}$ s$^{-1}$ $\\AA^{-1}$)',fontsize=16)\n",
    "    plt.xlim(3600,11000)\n",
    "    ax.xaxis.set_minor_locator(MultipleLocator(100))\n",
    "    ax.xaxis.set_major_locator(MultipleLocator(1000))\n",
    "\n",
    "    fig,ax = plt.subplots(figsize=(10,4))\n",
    "    plt.plot(data['wavelength'],data['flux']/1e-10)\n",
    "    plt.xlabel(r'wavelength $\\lambda$ ($\\AA$)',fontsize=16)\n",
    "    plt.ylabel(r'$F_\\lambda$ ($10^{-10}$ erg cm$^{-2}$ s$^{-1}$ $\\AA^{-1}$)',fontsize=16)\n",
    "    ax.xaxis.set_minor_locator(MultipleLocator(50))\n",
    "    ax.xaxis.set_major_locator(MultipleLocator(200))\n",
    "    plt.xlim(6000,7500)\n",
    "elif my_object==3:\n",
    "    data=ascii.read('astr3730_lab2_object3.csv',format='csv')\n",
    "    D_obj = 68 # distance to object in parsecs\n",
    "    \n",
    "    fig,ax = plt.subplots(figsize=(10,4))\n",
    "    plt.loglog(data['wavelength'],data['flux']/1e-10)\n",
    "    plt.xlim(1000,30000); plt.ylim(1e-17*1e10,1e-1)\n",
    "    plt.xlabel(r'wavelength $\\lambda$ ($\\AA$)',fontsize=16)\n",
    "    plt.ylabel(r'$F_\\lambda$ ($10^{-10}$ erg cm$^{-2}$ s$^{-1}$ $\\AA^{-1}$)',fontsize=16)\n",
    "\n",
    "    fig,ax = plt.subplots(figsize=(10,4))\n",
    "    plt.plot(data['wavelength'],data['flux']*data['wavelength']**4.)\n",
    "    plt.xlim(3050,13950); plt.ylim(9.,18.)#; plt.ylim(1e-17,1e-10)\n",
    "    plt.xlabel(r'wavelength $\\lambda$ ($\\AA$)',fontsize=16)\n",
    "    plt.ylabel(r'$\\lambda^4 F_\\lambda$',fontsize=16)\n",
    "    ax.xaxis.set_minor_locator(MultipleLocator(100))\n",
    "    ax.xaxis.set_major_locator(MultipleLocator(1000))\n",
    "\n",
    "    fig, ax = plt.subplots(figsize=(10,4))\n",
    "    plt.plot(data['wavelength'],data['flux']/1e-14)\n",
    "    plt.xlim(6400,6800); plt.ylim(0.6,1.)#; plt.ylim(1e-17,1e-10)\n",
    "    plt.xlabel(r'wavelength $\\lambda$ ($\\AA$)',fontsize=16)\n",
    "    plt.ylabel(r'$F_\\lambda$ ($10^{-14}$ erg cm$^{-2}$ s$^{-1}$ $\\AA^{-1}$)',fontsize=16)\n",
    "    ax.xaxis.set_minor_locator(MultipleLocator(10))\n",
    "    ax.xaxis.set_major_locator(MultipleLocator(50))\n"
   ]
  },
  {
   "cell_type": "markdown",
   "id": "b980df69",
   "metadata": {},
   "source": [
    "<center> Balmer series of hydrogen\n",
    "\n",
    "| Transition (n$_2$-n$_1$) | Name | Rest wavelength (Angstrom) |\n",
    "| :- |:- | :- |\n",
    "| 3-2| H$\\alpha$ | 6563 |\n",
    "| 4-2| H$\\beta$ | 4861 |\n",
    "| 5-2| H$\\gamma$ | 4341 |\n",
    "| 6-2| H$\\delta$ | 4102 |"
   ]
  },
  {
   "cell_type": "markdown",
   "id": "de28a93d",
   "metadata": {},
   "source": [
    "# 1\n",
    "Using the above table, identify the Balmer series H lines in your spectrum. Plot vertical lines at their locations on the optical spectrum for your object.\n",
    "\n",
    "What are the observed wavelength positions, $\\lambda$, of the Balmer lines?"
   ]
  },
  {
   "cell_type": "markdown",
   "id": "2c9c68de",
   "metadata": {},
   "source": [
    "Type answer here"
   ]
  },
  {
   "cell_type": "markdown",
   "id": "7746b51a",
   "metadata": {},
   "source": [
    "# 2\n",
    "For H$\\alpha$, estimate the line width and express your result as a velocity in units of km s$^{-1}$. (the pre-lab video contains useful equations for this)\n",
    "\n",
    "(NOTE: use the zoomed in spectrum to estimate the line width. If the line is narrow, your estimated line width may be an overestimate due to instrumental spectral resolution)"
   ]
  },
  {
   "cell_type": "code",
   "execution_count": null,
   "id": "a35c38c8",
   "metadata": {},
   "outputs": [],
   "source": [
    "line_width_angstrom = # ENTER WIDTH\n",
    "line_center_angstrom = # ENTER REST WAVELENGTH\n",
    "\n",
    "# write an equation to convert width in Angstroms to width in velocity\n",
    "line_width_velocity = # FILL IN"
   ]
  },
  {
   "cell_type": "markdown",
   "id": "2480ae39",
   "metadata": {},
   "source": [
    "# 3\n",
    "Based on the line shape and width, and by comparing with other H lines in your spectrum (if present), what physical line broadening mechanisms (pressure, thermal, velocity -- each discussed in the pre-lab video) do you think are more or less likely to be relevant? Why?"
   ]
  },
  {
   "cell_type": "markdown",
   "id": "7f8789e8",
   "metadata": {},
   "source": [
    "Type your answer here."
   ]
  },
  {
   "cell_type": "markdown",
   "id": "f7b6ce59",
   "metadata": {},
   "source": [
    "# 4\n",
    "Based on the shape of your continuum spectrum, use Wien’s displacement law to estimate the surface temperature: \n",
    "$\\lambda_{\\rm max} T \\simeq 2.9 \\times 10^7$ Angstrom $\\cdot$ K\n",
    "\n",
    "--If you can see the peak of the continuum, use Wien’s law at the peak wavelength.\n",
    "\n",
    "--If you don't see the peak, place a limit on $T$ by setting $\\lambda_{max}$ equal to the shortest wavelength in\n",
    "your spectrum."
   ]
  },
  {
   "cell_type": "code",
   "execution_count": null,
   "id": "e11f90a1",
   "metadata": {},
   "outputs": [],
   "source": [
    "lambda_max_angstrom = # ENTER VALUE\n",
    "T = 2.9e7/lambda_max_angstrom\n",
    "print(T)"
   ]
  },
  {
   "cell_type": "markdown",
   "id": "01a86a12",
   "metadata": {},
   "source": [
    "# 5\n",
    "Using the distance $D$ to the object (already defined above in units of pc), estimate the bolometric luminosity.\n",
    "\n",
    "--Calculate $L_{\\lambda}$ at the wavelength where the continuum peaks, $L_{\\lambda_{\\rm max}}$. You will have to estimate the flux density, $F_\\lambda$, at $\\lambda_{max}$ on the plot.\n",
    "\n",
    "--Estimate the bolometric luminosity as $L_{bol} = \\int d\\lambda L_{\\lambda} \\approx \\lambda_{\\rm max} L_{\\lambda_{\\rm max}}$"
   ]
  },
  {
   "cell_type": "code",
   "execution_count": null,
   "id": "f3b91a1b",
   "metadata": {},
   "outputs": [],
   "source": [
    "D = D_obj\n",
    "L_lambdamax = # ENTER EXPRESSION IN TERMS OF D AND F_LAMBDAMAX\n",
    "Lbol = # ENTER APPROXIMATE EXPRESSION GIVEN ABOVE"
   ]
  },
  {
   "cell_type": "markdown",
   "id": "ce8f7241",
   "metadata": {},
   "source": [
    "# 6\n",
    "Using your results for $L$ and $T$, use $T = T_{\\rm eff}$ to estimate the radius $R$ of the object"
   ]
  },
  {
   "cell_type": "code",
   "execution_count": null,
   "id": "d3b1797f",
   "metadata": {},
   "outputs": [],
   "source": [
    "Teff = T\n",
    "R = # EXPRESSION IN TERMS OF LBOL AND TEFF"
   ]
  },
  {
   "cell_type": "markdown",
   "id": "d2279b2c",
   "metadata": {},
   "source": [
    "# 7\n",
    "What do your results imply about the physical origin of your object?\n",
    "\n",
    "--Is it a star (e.g., compare to the properties of the Sun)?\n",
    "\n",
    "--If not, in what ways is it different?\n",
    "\n",
    "--Take a guess: what could your mystery object be?"
   ]
  },
  {
   "cell_type": "markdown",
   "id": "b05ae51c",
   "metadata": {},
   "source": [
    "Type your answer here."
   ]
  }
 ],
 "metadata": {
  "kernelspec": {
   "display_name": "Python 3",
   "language": "python",
   "name": "python3"
  },
  "language_info": {
   "codemirror_mode": {
    "name": "ipython",
    "version": 3
   },
   "file_extension": ".py",
   "mimetype": "text/x-python",
   "name": "python",
   "nbconvert_exporter": "python",
   "pygments_lexer": "ipython3",
   "version": "3.6.13"
  }
 },
 "nbformat": 4,
 "nbformat_minor": 5
}
