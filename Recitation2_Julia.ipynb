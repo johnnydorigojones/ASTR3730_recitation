{
 "cells": [
  {
   "cell_type": "markdown",
   "metadata": {},
   "source": [
    "# Solving Problems with *Julia*: an Introduction to Data Science\n",
    "\n",
    "# DISCLAIMER: This Jupyter Notebook was created by Kirk Long to give the students in ASTR3730 an additional option for a coding language. I do not know anything about Julia, so if you wish to go through with using Julia instead of Python, please be aware that I will likely not be able to help much.\n",
    "\n",
    "## Part 1: Julia/Jupyter Basics (skip to part 2 if this is all comfortable to you)\n",
    "\n",
    "**1. What is Julia?**\n",
    "\n",
    "Julia is a relatively new language developed at MIT that straddles the gap between interpreted and compiled languages, and tries to get the best of both worlds! Interpreted languages (like Python) are often lauded for their relatively low barriers to entry and on-the-fly versatility, but they are *much* slower than \"harder\" compiled languages like C or FORTRAN. Enter Julia, a \"just-in-time\" compiled language with higher-level syntax similar to Python but performance close to C! Julia runs fast natively, with no extra tricks required (say goodbye to vectorizing your slow Python code) and is a robust up-and-coming tool for data scientists.\n",
    "\n",
    "**2. What can I use Julia for?**\n",
    "\n",
    "Nearly anything! It's used for scientific research at universities and national labs where high performance computing is a priority, but it is also gaining popularity in a variety of industries, mostly focused on data science applications.\n",
    "\n",
    "**3. What will we be doing?**\n",
    "\n",
    "In this introductory session I hope to introduce to you the foundational skills required to use Julia (and other languages should you choose to learn them), specifically with applications to real science/modelling problems! No prior understanding of coding required--we will learn together as we go!\n",
    "\n",
    "## Starting out\n",
    "\n",
    "You are running Julia out of a Jupyter Notebook right now. I like them because they are easy to mesh text (like this) and code (like you will see below). Let's start by making sure you know how to open Jupyter notebook and saving your work to your personal folder (if you opened this notebook you're probably okay, just make sure you remember how to do it later and ask me if you're having saving issues). You can make Julia programs in any text editor and run them from the command line, something we might explore later, but for now we will work mostly out of notebooks for their ease of use.\n",
    "\n",
    "Jupyter notebooks have two kinds of cells — code and markdown. This is a markdown cell (which makes text formatting easy and also supports $\\LaTeX$ style math commands). You can change the cell type with the dropdown menu at the top of the page. Markdown cells are useful as notes to accompany your code/explain things.\n",
    "\n",
    "### Exercise 1: make your first markdown note\n",
    "\n",
    "Change the cell type below from code to markdown, and write \"Hello world!\". Run the cell by clicking the run button or by pushing Shift+Enter. Next, modify the cell to make italicize or bold the text (hint: double click this text to look at what I've one in this cell to format things)."
   ]
  },
  {
   "cell_type": "markdown",
   "metadata": {},
   "source": []
  },
  {
   "cell_type": "markdown",
   "metadata": {},
   "source": [
    "### Exercise 2: say hello with code\n",
    "\n",
    "It's important to be able to interact with our code to understand what it's doing and effectively debug it, and the easiest way to do this is with the println() function. Here's an example:"
   ]
  },
  {
   "cell_type": "code",
   "execution_count": 3,
   "metadata": {},
   "outputs": [
    {
     "name": "stdout",
     "output_type": "stream",
     "text": [
      "My name is Kirk!\n"
     ]
    }
   ],
   "source": [
    "#This is a comment: anything after a hashtag/pound sign will be ignored by the program,\n",
    "#so we can write whatever we want in plain english without causing an error!\n",
    "println(\"My name is Kirk!\")"
   ]
  },
  {
   "cell_type": "markdown",
   "metadata": {},
   "source": [
    "**Your turn:** write your own print command in the cell below to get the computer to say \"hello world\" — the classic first exercise in any programming language."
   ]
  },
  {
   "cell_type": "code",
   "execution_count": 2,
   "metadata": {},
   "outputs": [],
   "source": [
    "#your code here\n"
   ]
  },
  {
   "cell_type": "markdown",
   "metadata": {},
   "source": [
    "### Exercise 3: variables\n",
    "\n",
    "Variables are an incredibly important part of any programming language. They allow us to store information for later use by the program, and we create them with the = sign (also known as the assignment operator). Here's an example:\n"
   ]
  },
  {
   "cell_type": "code",
   "execution_count": 4,
   "metadata": {},
   "outputs": [
    {
     "name": "stdout",
     "output_type": "stream",
     "text": [
      "5\n"
     ]
    }
   ],
   "source": [
    "x = 5 #here I have made a variable called x that has a value of 5\n",
    "println(x) #let's see what x i"
   ]
  },
  {
   "cell_type": "markdown",
   "metadata": {},
   "source": [
    "**Your turn:** write your own code below that will save \"hello world\" to a variable, then print that variable to the console."
   ]
  },
  {
   "cell_type": "code",
   "execution_count": 4,
   "metadata": {},
   "outputs": [],
   "source": [
    "#your code here \n"
   ]
  },
  {
   "cell_type": "markdown",
   "metadata": {},
   "source": [
    "One type of variable you will commonly have to deal with are lists (ie arrays of data), so it's worth exploring the specific syntax for how to retrieve things from lists if you haven't seen it before.\n",
    "\n",
    "Here's an example user-defined list:\n",
    "\n",
    "```julia \n",
    "myList = [1,2,3,4,5]\n",
    "```\n",
    "**Julia indexing starts from 1** (a major difference from Python!), so if we want to retrieve the first item in the list we would write: \n",
    "\n",
    "```julia\n",
    "firstThing = myList[1]\n",
    "```\n",
    "\n",
    "We could also use the `start` keyword. Likewise, there is an `end` keyword that is great for retrieving the last item in a list.\n",
    "\n",
    "```julia\n",
    "lastThing = myList[end]\n",
    "```\n",
    "We can take a slice of the data by doing something like:\n",
    "\n",
    "```julia\n",
    "listSlice = myList[1:3] #this will make a new list ( [1,2,3] ) copied from a section of the original\n",
    "```\n",
    "We can also operate on lists with functions — here are three simple yet very handy ones:\n",
    "\n",
    "```julia\n",
    "listMax = maximum(myList) #returns the entry with largest value\n",
    "listMin = minimum(myList) #returns the entry with the smallest value\n",
    "listLength = length(myList) #returns the number of entries in the list\n",
    "```\n",
    "\n",
    "**Your turn!** Try some of these operations on a made up list in the cell below:"
   ]
  },
  {
   "cell_type": "code",
   "execution_count": 7,
   "metadata": {},
   "outputs": [],
   "source": [
    "#practice list operations here\n"
   ]
  },
  {
   "cell_type": "markdown",
   "metadata": {},
   "source": [
    "#### Julia variable rules cheat sheet:\n",
    "\n",
    "1. Variable names must be unique. If you name two things x it will only remember the second one.\n",
    "\n",
    "2. Variable names cannot start with a number. For example, ```variable1 = x``` is fine but ``` 1variable = x ``` is not.  \n",
    "\n",
    "3. No spaces! Variable names must be connected. You can combine multiple words with underscores (ie ``` my_variable = x ```) or using \"camelCase\" (ie ``` myVariable = x ```) \n",
    "\n",
    "4. Variables can be added/subtracted/etc together (as long as they're the same type) to create a new result (this is the most common way we use them). \n",
    "\n",
    "### Exercise 4: using modules\n",
    "\n",
    "By default Julia only comes with a few parts \"turned on.\" This is to save memory/other computing resources for things you may not need. There are many extra packages that we can use in Julia to do tasks that might otherwise take a long time, and to access these packages we must import them. Here's an example using the random module, which allows us to generate random numbers on demand."
   ]
  },
  {
   "cell_type": "code",
   "execution_count": 5,
   "metadata": {},
   "outputs": [
    {
     "name": "stdout",
     "output_type": "stream",
     "text": [
      "9\n"
     ]
    }
   ],
   "source": [
    "using Random #the using command is equivalent to Python \"import\"\n",
    "\n",
    "randomNumber = rand(1:10) #generate a random number between 1 and 10\n",
    "println(randomNumber)"
   ]
  },
  {
   "cell_type": "markdown",
   "metadata": {},
   "source": [
    "**Your turn:** the two most commonly imported packages for scientists using Julia are probably `DataFrames` and `Plots`. Test and make sure you have them installed by running the following line of code:\n",
    "\n",
    "```julia\n",
    "using DataFrames, Plots\n",
    "```\n",
    "\n",
    "Julia's `DataFrames` module is similar to `pandas` in Python, but more robust and, more importantly, it's baked into the heart of Julia itself! Similarly Julia's `Plots` module is much more versatile than `matplotlib` in Python -- the `Plots` module in Julia allows the user to switch between backends (including `matplotlib`!) easily without having to significantly change plot syntax, a very nice feature. \n",
    "\n",
    "**Note:** when you first import a larger module (like `Plots`) you will notice that the cell does take a little bit of time to run -- this is because Julia is \"pre-compiling\" the entire package for you, so that you don't have to pay extra time costs for the rest of your session while using the package. "
   ]
  },
  {
   "cell_type": "code",
   "execution_count": 7,
   "metadata": {},
   "outputs": [
    {
     "name": "stderr",
     "output_type": "stream",
     "text": [
      "┌ Info: Precompiling Plots [91a5bcdd-55d7-5caf-9e0b-520d859cae80]\n",
      "└ @ Base loading.jl:1278\n"
     ]
    }
   ],
   "source": [
    "#import DataFrames and Plots here\n",
    "using DataFrames, Plots"
   ]
  },
  {
   "cell_type": "markdown",
   "metadata": {},
   "source": [
    "## Part 2: interacting with data\n",
    "\n",
    "Now that you know the basics, let's use your new skills to read in some sample data from a text file and make a plot! \n",
    "\n",
    "### Exercise 1: reading in data from a .txt file\n",
    "\n",
    "There are many ways you can do this, but I'm going to show you an easy way that takes advantage of the powerful, built-in `DataFrames` module.\n",
    "\n",
    "Before you can run the cell below you need to make sure you have the `dow.txt` file located in the same place this notebook is running from (or you need to know the explicit filepath to this file). \n",
    "\n",
    "Run the cell below to load in the data, which is a record of the daily closing value of the Dow Jones Industrial Average Index from 8/15/2007 to 6/4/2010...you might remember something dramatic happened between those dates..."
   ]
  },
  {
   "cell_type": "code",
   "execution_count": null,
   "metadata": {},
   "outputs": [],
   "source": [
    "using CSV #we also need the CSV package to read in the txt file\n",
    "\n",
    "df = DataFrame!(CSV.File(\"dow.txt\",header=false))\n",
    "rename!(df, :Column1 => :DailyClosing) #give the column a reasonable name"
   ]
  },
  {
   "cell_type": "markdown",
   "metadata": {},
   "source": [
    "### Exercise 2: an introduction to plotting!\n",
    "\n",
    "So we have some data, but now what? As humans we like to look at things, so the next logical step is for us to figure out a way to display this dataset in graphical form. Luckily for us there is a robust library built into Julia that can automagically do a lot of what we want. Make sure you've imported the plots library (see above) and then run the following bit of code to generate the plot:\n",
    "\n",
    "```julia\n",
    "plot(df.DailyClosing)\n",
    "```\n",
    "\n",
    "You should notice that the Julia plot is already very pretty -- one of the reasons I'm a big fan of Julia is the default plot styling is already much closer to what I usually want my plots to look like, resulting in many fewer lines of stupid matplotlib code."
   ]
  },
  {
   "cell_type": "code",
   "execution_count": 51,
   "metadata": {},
   "outputs": [],
   "source": [
    "#make sure you've successfully imported plots above, then make the plot!\n"
   ]
  },
  {
   "cell_type": "markdown",
   "metadata": {},
   "source": [
    "#### Formatting:\n",
    "This plot is fine, but we can still improve it. Any true scientist knows that you always need to label your axes and have a proper title at the very least! Luckily for us these are commands are very easy, and below I've added the commands you'll need to fix these problems.\n",
    "\n",
    "Julia has a great syntax feature involving the !. It's a magic shorthand for modifying an already constructed object. Say you initialized a plot in a cell like: \n",
    "\n",
    "```julia\n",
    "plot(df.DailyClosing,label=\"daily closing value\")\n",
    "```\n",
    "\n",
    "We can then add a title to this plot by simply calling:\n",
    "```julia\n",
    "title!(\"Here's a plot of some data I have!\")\n",
    "```\n",
    "Similarly we can label axes like:\n",
    "```julia\n",
    "xlabel!(\"x (units)\")\n",
    "ylabel!(\"y (units)\")\n",
    "```\n",
    "\n",
    "We can also do this all in one go, for example:\n",
    "```julia\n",
    "plot(df.DailyClosing,label=\"daily closing value\",\n",
    "    xlabel=\"x (units)\", ylabel=\"y, (units)\", title=\"My plot!\")\n",
    "```\n",
    "\n",
    "**Your turn:** Make a new plot of the data with proper labels and a title."
   ]
  },
  {
   "cell_type": "code",
   "execution_count": 31,
   "metadata": {},
   "outputs": [],
   "source": [
    "#make a better plot here\n"
   ]
  },
  {
   "cell_type": "markdown",
   "metadata": {},
   "source": [
    "Right now we are just plotting \"y\" values and Plots is assuming what our x values are automatically (just numbering them from 1 to the number of bins we have). This isn't really great practice. So how can we change this to be more explicit? \n",
    "\n",
    "We can accomplish this easily with the help of the built in `range` functionality. \n",
    "\n",
    "For example, if we wanted to make generate an array of numbers from 0 to 10, stepping by 1, we could write something like:\n",
    "\n",
    "```julia\n",
    "r = range(0,stop=10,length=11)\n",
    "```\n",
    "**Your turn:** Create an array of x values that **starts at 0 and ends at 100** (to represent percentage of time elapsed) using the ```range``` function. The value you pass in for length should be **the same** as the length of the y values (you can find this out by running ```length(df.DailyClosing)```)."
   ]
  },
  {
   "cell_type": "code",
   "execution_count": 50,
   "metadata": {},
   "outputs": [],
   "source": [
    "#create the array here\n"
   ]
  },
  {
   "cell_type": "markdown",
   "metadata": {},
   "source": [
    "### Exercise 3: more plotting\n",
    "\n",
    "Now that you have lists (of the same size) for both x and y, let's learn how to plot them together and alter the look. To plot two items together using only default values, you can simply run ```plot(xValues, yValues)``` but what if we want to change the color/type of the line, add a label, or otherwise modify it?\n",
    "\n",
    "Here's a more complicated example (you should run it in a cell below and see the output to figure out what each part does):\n",
    "\n",
    "```julia\n",
    "plot(xCreatedAbove, df.DailyClosing, label = \"daily closing value\", color=:red, linestyle=:dashdot)\n",
    "title!(\"Value of the Dow Jones Industrial Average Index Over Time\")\n",
    "xlabel!(\"% time elapsed\")\n",
    "ylabel!(\"points\")\n",
    "```\n",
    "\n",
    "**Your turn:** Modify your Dow plot to use the new x axis data points you just created, update the x label, and futz around with colors/labels/marker styles. "
   ]
  },
  {
   "cell_type": "code",
   "execution_count": 49,
   "metadata": {},
   "outputs": [],
   "source": [
    "#your code here\n"
   ]
  },
  {
   "cell_type": "markdown",
   "metadata": {},
   "source": [
    "### Exercise 4: putting it all together\n",
    "\n",
    "Let's do a more astronomically relevant exercise...plotting the solar cycle! The solar cycle is one of the richest astronomical datasets we have — this particular dataset you're about to plot contains a monthly sunspot count for every month since January of 1749!\n",
    "\n",
    "You are tasked with the completing the following:\n",
    "\n",
    "1. Import the data file containing sunspot observations (`sunspots.txt`). This file contains continuous data recorded since January of 1749! Each entry is the total number of sunspots observed on the surface of the Sun for that month. I recommend using DataFrames again to load the data, but if you're curious about a more manual way to do this see the optional method outlined in the cell below. \n",
    "2. Plot the data with the sunspot counts on the y-axis time on the x-axis. Does it look like this data is periodic? "
   ]
  },
  {
   "cell_type": "code",
   "execution_count": null,
   "metadata": {
    "scrolled": true
   },
   "outputs": [],
   "source": [
    "#optional addendum on reading in files manually\n",
    "months = []\n",
    "sunspots = []\n",
    "lines = readlines(\"sunspots.txt\") #read the file line by line\n",
    "for line in lines #go through each line\n",
    "    split1,split2 = split(line,\"\\t\") #the file is tab separated\n",
    "    push!(months,parse(Float64,split1)) #convert string to Float\n",
    "    push!(sunspots,parse(Float64,split2)) #push! appends to list\n",
    "end #in Julia the end statement is required (but no colons!)\n",
    "months = convert(Array{Float64,1},months) #explicitly declare these arrays\n",
    "sunspots = convert(Array{Float64,1},sunspots) #to be full of Floats (instead of \"Any\" type)\n",
    "\n",
    "#after running this block of code you will be left with two lists\n",
    "#representing each column in the original text file.\n",
    "#you could plot this like plot(months,sunspots)!"
   ]
  },
  {
   "cell_type": "code",
   "execution_count": 48,
   "metadata": {},
   "outputs": [],
   "source": [
    "#your solution to exercise 4 starts here: don't be afraid to break up parts into different cells!\n",
    "#one advantage of Jupyter notebooks is you can run code in bits and pieces...much easier to find bugs :)\n"
   ]
  },
  {
   "cell_type": "markdown",
   "metadata": {},
   "source": [
    "***Challenge -- let's do some science!*** \n",
    "----------------\n",
    "------\n",
    "3. Assuming the data is periodic, try to fit it with a $y=Asin^2(\\omega t + \\phi_0)$ style function. Guess from the graph to find the average amplitude, frequency, and phase shift for your fitted wave. In Julia there is no need to import anything, you can call the sine function simply with `sin(x)`. \n",
    "4. Test your assumption by using a fast-fourier-transform (FFT). Sample code to get you started on this is below. Plot the results of the FFT and find the dominant frequency — how closely does it match your guess? You might notice that your guess from the $sin^2$ approximation is off by a factor of roughly 2 — why might this be? \n",
    "5. Compare the periodicity value you obtained from the FFT to the standard value for the solar cycle — how accurate is your analsyis? Use this data and your periodic sine wave model to predict when the next three solar maximums will happen.\n",
    "\n",
    "**FFT example code**\n",
    "\n",
    "```julia\n",
    "using FFTW #fastest fourier transform in the west!\n",
    "c = fft(data) #get fourier coefficients of data -- these include complex numbers\n",
    "cReal = abs.(c) #magnitude of signal, no longer complex, notice dot syntax for operating on julia array\n",
    "cReal[1] = 0 #the first component will be huge, but this is a non-physical mathematical artifact (DC level) so we set it to zero.\n",
    "plot(cReal[1:Int(floor(length(cReal)/2))]) #transform is symmetric so don't care about second half\n",
    "\n",
    "#if you want to check it take the inverse fourier transform (ifft)\n",
    "plot(real(ifft(c))) #should be the same graph as original data (or very very close)\n",
    "```\n",
    "\n",
    "The largest spike is the dominant frequency in the dataset, so you want to find *what index this occurs at* (ie what place it is on the x-axis). Recall that the x-axis here is a frequency space, which is spaced like $f = \\frac{[0, 1, 2, ...]}{\\Delta t N}$ where $\\Delta t$ is the difference in time between each datapoint and N is the total number of data points. The data stops being useful at index $\\approx \\frac{N}{2}$ as the FFT is symmetric (the exact spot it becomes not useful depends on whether N is odd or even). \n",
    "\n",
    "So...say you had 3000 data points on the Sun taken at intervals of 1/12th of a year (once a month) and you found a big spike in your FFT at index 42...that would correspond to a frequency of roughly $\\frac{41}{\\frac{1}{12} \\times 3000} \\approx $ 0.17 cycles/year, or a period of roughly 6 years (obviously wrong, but I didn't want to give it away and I like the number 42...). Notice the -1 when using the formula, because Julia indexing starts at 1 and not 0. "
   ]
  },
  {
   "cell_type": "code",
   "execution_count": 47,
   "metadata": {},
   "outputs": [],
   "source": [
    "#your solution to the challenge...if you dare\n"
   ]
  },
  {
   "cell_type": "markdown",
   "metadata": {},
   "source": [
    "### Hooray -- you did it! \n",
    "\n",
    "See, that wasn't *so* bad? Remember that coding (like anything else) is a skill that takes practice, so don't be discouraged if you had a hard time/didn't finish/didn't fully understand something -- for some of you this might have been your first hour ever programming! You've also been exceptionally brave in trying out Julia, so hats off to you.  \n",
    "\n",
    "If you want to continue developing this skill and liked the format of this notebook, these notes are based off an introductory course I created and taught to prison-inmates in Idaho over the past two years, some of whom are now doing some very advanced things. Those course materials (which are mostly notebooks like this with explanations + problems) are freely available on my [github](https://github.com/kirklong/PrisonOutreach). They are in Python, but if you want to keep learning Julia (which you should) it would be excellent practice to complete the exercises in Julia. You can easily just switch the kernel in your Jupyter notebook to Julia and then write solutions/translate Python code to Julia. I also have a twitter bot that simulates three-body problems where most of the work is done in Julia, and you can find that example on my github [here](https://github.com/kirklong/ThreeBodyBot), and a lot of research work I did for an [undergraduate project](https://github.com/kirklong/Research) I did in Julia as well. I'm also happy to help in general, so come to office hours or the Astronomy Help Room while I'm there if there's ever something programming related you think I might be able to help with."
   ]
  }
 ],
 "metadata": {
  "kernelspec": {
   "display_name": "Julia 1.5.1",
   "language": "julia",
   "name": "julia-1.5"
  },
  "language_info": {
   "file_extension": ".jl",
   "mimetype": "application/julia",
   "name": "julia",
   "version": "1.5.1"
  }
 },
 "nbformat": 4,
 "nbformat_minor": 4
}
