{
 "cells": [
  {
   "cell_type": "code",
   "execution_count": null,
   "metadata": {
    "scrolled": false
   },
   "outputs": [],
   "source": [
    "%matplotlib inline\n",
    "import matplotlib.pyplot as plt\n",
    "import numpy as np\n",
    "import mesa_reader as m"
   ]
  },
  {
   "cell_type": "markdown",
   "metadata": {},
   "source": [
    "# Lab 3 -- analyzing MESA output for the evolution of a Sun-like star"
   ]
  },
  {
   "cell_type": "markdown",
   "metadata": {},
   "source": [
    "### 1. Load the time series data into an object d and list all the possible variables\n",
    "\n",
    "\"star_age\" is time\n",
    "\n",
    "\"center_\" means calculated for the core\n",
    "\n",
    "\"log_average_\" means it is the logarithm of the value averaged over the star\n",
    "\n",
    "\"surf_\" means evaluated at the surface"
   ]
  },
  {
   "cell_type": "code",
   "execution_count": null,
   "metadata": {
    "scrolled": true
   },
   "outputs": [],
   "source": [
    "# set the path variable to the directory containing the data files\n",
    "# you can leave this as an empty string if the files are in the same directory as the Jupyter notebook\n",
    "path = ''\n",
    "d = m.MesaData(file_name=path+'history.data')\n",
    "ms = m.MesaData(file_name=path+'profile4.data')\n",
    "rg = m.MesaData(file_name=path+'profile25.data')\n",
    "d.read_data()\n",
    "d.bulk_names"
   ]
  },
  {
   "cell_type": "markdown",
   "metadata": {},
   "source": [
    "### 2. identify the main sequence phase of the star\n",
    "hint: where does H burning in the core start? where does the star leave the \"main sequence\" strip of the H-R diagram?\n",
    "\n",
    "you can also \"Zoom in\" by changing the start and end points of the x-axis tstart and tstop: plt.xlim(tstart,tstop) "
   ]
  },
  {
   "cell_type": "code",
   "execution_count": null,
   "metadata": {
    "scrolled": false
   },
   "outputs": [],
   "source": [
    "# change these values if you want to Zoom in to a certain time range\n",
    "tstart=-0.4; tstop=12.8\n",
    "\n",
    "fig, axArr = plt.subplots(3,2,figsize=(20,15))\n",
    "#plt.figure(figsize=(5,4))\n",
    "axArr[0,0].semilogy(d.data('star_age')/1e9,10**d.data('log_center_T'))\n",
    "axArr[0,0].xaxis.set_tick_params(labelsize=14)\n",
    "axArr[0,0].yaxis.set_tick_params(labelsize=14)\n",
    "axArr[0,0].set_xlabel('time (Gyr)',fontsize=16); axArr[0,0].set_ylabel(r'core temperature $T_c$ (K)',fontsize=16)\n",
    "axArr[0,0].set_xlim(tstart,tstop)\n",
    "\n",
    "#plt.figure(figsize=(5,4))\n",
    "axArr[0,1].semilogy(d.data('star_age')/1e9,10**d.data('log_center_Rho'))\n",
    "axArr[0,1].xaxis.set_tick_params(labelsize=14)\n",
    "axArr[0,1].yaxis.set_tick_params(labelsize=14)\n",
    "axArr[0,1].set_xlabel('time (Gyr)',fontsize=16); axArr[0,1].set_ylabel(r'core mass density $\\rho_c$ (g cm$^{-3}$)',fontsize=16)\n",
    "axArr[0,1].set_xlim(tstart,tstop)\n",
    "\n",
    "#plt.figure(figsize=(5,4))\n",
    "axArr[1,0].semilogy(d.data('star_age')/1e9,10**d.data('log_L'))\n",
    "axArr[1,0].xaxis.set_tick_params(labelsize=14)\n",
    "axArr[1,0].yaxis.set_tick_params(labelsize=14)\n",
    "axArr[1,0].set_xlabel('time (Gyr)',fontsize=16); axArr[1,0].set_ylabel(r'surface luminosity $L$ ($L_{\\rm Sun}$)',fontsize=16)\n",
    "axArr[1,0].set_xlim(tstart,tstop)\n",
    "\n",
    "#plt.figure(figsize=(5,4))\n",
    "axArr[1,1].plot(d.data('star_age')/1e9,10**d.data('log_Teff'))\n",
    "#ax = plt.gca()\n",
    "axArr[1,1].xaxis.set_tick_params(labelsize=14)\n",
    "axArr[1,1].yaxis.set_tick_params(labelsize=14)\n",
    "axArr[1,1].set_xlabel('time (Gyr)',fontsize=16); axArr[1,1].set_ylabel(r'effective temperature $T_{\\rm eff}$ (K)',fontsize=16)\n",
    "axArr[1,1].set_xlim(tstart,tstop)\n",
    "\n",
    "#plt.figure(figsize=(5,4))\n",
    "axArr[2,0].semilogy(d.data('star_age')/1e9,10**d.data('log_R'))\n",
    "#ax = plt.gca()\n",
    "axArr[2,0].xaxis.set_tick_params(labelsize=14)\n",
    "axArr[2,0].yaxis.set_tick_params(labelsize=14)\n",
    "axArr[2,0].set_xlabel('time (Gyr)',fontsize=16); axArr[2,0].set_ylabel(r'stellar radius $R$ ($R_{\\rm Sun}$)',fontsize=16)\n",
    "axArr[2,0].set_xlim(tstart,tstop)\n",
    "\n",
    "fig.delaxes(axArr[2,1])"
   ]
  },
  {
   "cell_type": "markdown",
   "metadata": {},
   "source": [
    "### 3. let's look at the radial structure of the main sequence star\n",
    "\n",
    "where in radius do you think is the outer boundary of the \"core\" and why? how much of the enclosed mass is in the core?\n",
    "\n",
    "are the conditions what you expect for a main sequence star in terms of core temperature and energy generation?\n",
    "\n",
    "how does the density profile compare to what we assumed in HW3 problem 1?"
   ]
  },
  {
   "cell_type": "code",
   "execution_count": null,
   "metadata": {
    "scrolled": false
   },
   "outputs": [],
   "source": [
    "rstart=8e-4; rstop=1.1\n",
    "\n",
    "fig, axArr = plt.subplots(3,2,figsize=(20,15))\n",
    "\n",
    "axArr[0,0].loglog(ms.data('r_equatorial'),10**ms.data('logRho'))\n",
    "axArr[0,0].xaxis.set_tick_params(labelsize=14)\n",
    "axArr[0,0].yaxis.set_tick_params(labelsize=14)\n",
    "axArr[0,0].set_xlabel(r'radius $r$ ($R_{\\rm Sun}$)',fontsize=16); axArr[0,0].set_ylabel(r'mass density $\\rho(r)$ (g cm$^{-3}$)',fontsize=16)\n",
    "axArr[0,0].set_xlim(rstart,rstop)\n",
    "axArr[0,0].set_ylim(1e-2,3e2)\n",
    "\n",
    "axArr[0,1].semilogx(ms.data('r_equatorial'),ms.data('mass'))\n",
    "axArr[0,1].xaxis.set_tick_params(labelsize=14)\n",
    "axArr[0,1].yaxis.set_tick_params(labelsize=14)\n",
    "axArr[0,1].set_xlabel(r'radius $r$ ($R_{\\rm Sun}$)',fontsize=16); axArr[0,1].set_ylabel(r'enclosed mass $m(r)$ ($M_{\\rm Sun}$)',fontsize=16)\n",
    "axArr[0,1].set_xlim(rstart,rstop)\n",
    "axArr[0,1].set_ylim(-0.05,1.05)\n",
    "\n",
    "axArr[1,0].loglog(ms.data('r_equatorial'),ms.data('pressure'))\n",
    "axArr[1,0].xaxis.set_tick_params(labelsize=14)\n",
    "axArr[1,0].yaxis.set_tick_params(labelsize=14)\n",
    "axArr[1,0].set_xlabel(r'radius $r$ ($R_{\\rm Sun}$)',fontsize=16); axArr[1,0].set_ylabel(r'pressure $P$ (erg cm$^{-3}$)',fontsize=16)\n",
    "axArr[1,0].set_xlim(rstart,rstop)\n",
    "axArr[1,0].set_ylim(1e8,1e18)\n",
    "\n",
    "axArr[1,1].loglog(ms.data('r_equatorial'),10**ms.data('logT'))\n",
    "axArr[1,1].xaxis.set_tick_params(labelsize=14)\n",
    "axArr[1,1].yaxis.set_tick_params(labelsize=14)\n",
    "axArr[1,1].set_xlabel(r'radius $r$ ($R_{\\rm Sun}$)',fontsize=16); axArr[1,1].set_ylabel(r'temperature $T$ (K)',fontsize=16)\n",
    "axArr[1,1].set_xlim(rstart,rstop)\n",
    "axArr[1,1].set_ylim(6e3,3e7)\n",
    "\n",
    "axArr[2,0].loglog(ms.data('r_equatorial'),ms.data('pp'),label='pp chain')\n",
    "axArr[2,0].loglog(ms.data('r_equatorial'),ms.data('cno'),label='CNO cycle')\n",
    "axArr[2,0].xaxis.set_tick_params(labelsize=14)\n",
    "axArr[2,0].yaxis.set_tick_params(labelsize=14)\n",
    "axArr[2,0].set_xlabel(r'radius $r$ ($R_{\\rm Sun}$)',fontsize=16); axArr[2,0].set_ylabel(r'energy generation rate $q$ (erg g$^{-1}$ s$^{-1}$)',fontsize=16)\n",
    "axArr[2,0].set_xlim(rstart,rstop)\n",
    "axArr[2,0].set_ylim(1e-6,1e2)\n",
    "axArr[2,0].legend(fontsize=16)\n",
    "\n",
    "axArr[2,1].semilogx(ms.data('r_equatorial'),ms.data('h1'),label='X')\n",
    "axArr[2,1].semilogx(ms.data('r_equatorial'),ms.data('he4'),label='Y')\n",
    "axArr[2,1].semilogx(ms.data('r_equatorial'),ms.data('c12')+ms.data('o16'),label='Z')\n",
    "axArr[2,1].xaxis.set_tick_params(labelsize=14)\n",
    "axArr[2,1].yaxis.set_tick_params(labelsize=14)\n",
    "axArr[2,1].set_xlabel(r'radius $r$ ($R_{\\rm Sun}$)',fontsize=16); axArr[2,1].set_ylabel(r'composition',fontsize=16)\n",
    "axArr[2,1].set_xlim(rstart,rstop)\n",
    "axArr[2,1].legend(fontsize=16,ncol=2)\n",
    "axArr[2,1].set_ylim(-0.05,1.05)"
   ]
  },
  {
   "cell_type": "markdown",
   "metadata": {},
   "source": [
    "### 4. what happens just after the star leaves the main sequence?\n",
    "for this part refer to the plots from Q2 as well as the new ones below showing the changes in composition over time\n",
    "\n",
    "the main sequence is the phase where the star is burning hydrogen in the core. Is most of the hydrogen in the star converted to helium during this phase?\n",
    "\n",
    "just afterwards, is the core hot enough to burn He? what nuclear fuel is being consumed?\n",
    "\n",
    "given the star's location on the HR diagram (and/or its radius), what phase do you think this might be?"
   ]
  },
  {
   "cell_type": "code",
   "execution_count": null,
   "metadata": {
    "scrolled": false
   },
   "outputs": [],
   "source": [
    "fig, (ax1,ax2) = plt.subplots(1,2,figsize=(15,5))\n",
    "ax1.plot(d.data('star_age')/1e9,10**d.data('log_average_h1'),label=r'X ($^1$H)')\n",
    "ax1.plot(d.data('star_age')/1e9,10**d.data('log_average_he4'),label=r'Y ($^4$He)')\n",
    "ax1.legend(fontsize=16)\n",
    "ax1.xaxis.set_tick_params(labelsize=14)\n",
    "ax1.yaxis.set_tick_params(labelsize=14)\n",
    "ax1.set_xlabel('time (Gyr)',fontsize=16); ax1.set_ylabel(r'average composition',fontsize=16)\n",
    "ax1.set_xlim(tstart,tstop)\n",
    "\n",
    "ax2.plot(d.data('star_age')/1e9,d.data('he_core_mass'),label='$^4$He')\n",
    "ax2.plot(d.data('star_age')/1e9,d.data('c_core_mass'),label='$^{12}$C$+^{16}$O')\n",
    "ax2.legend(fontsize=16)\n",
    "ax2.xaxis.set_tick_params(labelsize=14)\n",
    "ax2.yaxis.set_tick_params(labelsize=14)\n",
    "ax2.set_xlabel('time (Gyr)',fontsize=16); ax2.set_ylabel(r'total core mass of He and C/O',fontsize=16)\n",
    "ax2.set_xlim(tstart,tstop)"
   ]
  },
  {
   "cell_type": "markdown",
   "metadata": {},
   "source": [
    "### 5. radial structure after leaving the main sequence\n",
    "how does the radial structure of the star compare to when it was on the main sequence, e.g. in terms of the central  and surface density and total radius and mass? make sure to check the numerical values of the graphs as well as their shapes!\n",
    "\n",
    "how has the composition of the core of the star changed? where is nuclear fusion occuring in the star during this phase? what is the main nuclear reaction chain taking place? is the peak energy generation rate smaller or larger than it was on the main sequence?"
   ]
  },
  {
   "cell_type": "code",
   "execution_count": null,
   "metadata": {
    "scrolled": false
   },
   "outputs": [],
   "source": [
    "rstart=8e-4; rstop=1.5e2\n",
    "\n",
    "fig, axArr = plt.subplots(3,2,figsize=(20,15))\n",
    "axArr[0,0].loglog(rg.data('r_equatorial'),10**rg.data('logRho'))\n",
    "axArr[0,0].xaxis.set_tick_params(labelsize=14)\n",
    "axArr[0,0].yaxis.set_tick_params(labelsize=14)\n",
    "axArr[0,0].set_xlabel(r'radius $r$ ($R_{\\rm Sun}$)',fontsize=16); axArr[0,0].set_ylabel(r'mass density $\\rho(r)$ (g cm$^{-3}$)',fontsize=16)\n",
    "axArr[0,0].set_xlim(rstart,rstop)\n",
    "axArr[0,0].set_ylim(1e-6,3e6)\n",
    "\n",
    "axArr[0,1].semilogx(rg.data('r_equatorial'),rg.data('mass'))\n",
    "axArr[0,1].xaxis.set_tick_params(labelsize=14)\n",
    "axArr[0,1].yaxis.set_tick_params(labelsize=14)\n",
    "axArr[0,1].set_xlabel(r'radius $r$ ($R_{\\rm Sun}$)',fontsize=16); axArr[0,1].set_ylabel(r'enclosed mass $m(r)$ ($M_{\\rm Sun}$)',fontsize=16)\n",
    "axArr[0,1].set_xlim(rstart,rstop)\n",
    "axArr[0,1].set_ylim(-0.05,1.05)\n",
    "\n",
    "axArr[1,0].loglog(rg.data('r_equatorial'),rg.data('pressure'))\n",
    "axArr[1,0].xaxis.set_tick_params(labelsize=14)\n",
    "axArr[1,0].yaxis.set_tick_params(labelsize=14)\n",
    "axArr[1,0].set_xlabel(r'radius $r$ ($R_{\\rm Sun}$)',fontsize=16); axArr[1,0].set_ylabel(r'pressure $P$ (erg cm$^{-3}$)',fontsize=16)\n",
    "axArr[1,0].set_xlim(rstart,rstop)\n",
    "axArr[1,0].set_ylim(1e4,1e23)\n",
    "\n",
    "axArr[1,1].loglog(rg.data('r_equatorial'),10**rg.data('logT'))\n",
    "axArr[1,1].xaxis.set_tick_params(labelsize=14)\n",
    "axArr[1,1].yaxis.set_tick_params(labelsize=14)\n",
    "axArr[1,1].set_xlabel(r'radius $r$ ($R_{\\rm Sun}$)',fontsize=16); axArr[1,1].set_ylabel(r'temperature $T$ (K)',fontsize=16)\n",
    "axArr[1,1].set_xlim(rstart,rstop)\n",
    "axArr[1,1].set_ylim(6e3,1e8)\n",
    "\n",
    "axArr[2,0].loglog(rg.data('r_equatorial'),rg.data('pp'),label='pp chain')\n",
    "axArr[2,0].loglog(rg.data('r_equatorial'),rg.data('cno'),label='CNO cycle')\n",
    "axArr[2,0].xaxis.set_tick_params(labelsize=14)\n",
    "axArr[2,0].yaxis.set_tick_params(labelsize=14)\n",
    "axArr[2,0].set_xlabel(r'radius $r$ ($R_{\\rm Sun}$)',fontsize=16); axArr[2,0].set_ylabel(r'energy generation rate $q$ (erg g$^{-1}$ s$^{-1}$)',fontsize=16)\n",
    "axArr[2,0].set_xlim(rstart,rstop)\n",
    "axArr[2,0].set_ylim(1e-6,1e8)\n",
    "axArr[2,0].legend(fontsize=16)\n",
    "\n",
    "axArr[2,1].semilogx(rg.data('r_equatorial'),rg.data('h1'),label='X')\n",
    "axArr[2,1].semilogx(rg.data('r_equatorial'),rg.data('he4'),label='Y')\n",
    "axArr[2,1].semilogx(rg.data('r_equatorial'),rg.data('c12')+rg.data('o16'),label='Z')\n",
    "axArr[2,1].xaxis.set_tick_params(labelsize=14)\n",
    "axArr[2,1].yaxis.set_tick_params(labelsize=14)\n",
    "axArr[2,1].set_xlabel(r'radius $r$ ($R_{\\rm Sun}$)',fontsize=16); axArr[2,1].set_ylabel(r'composition',fontsize=16)\n",
    "axArr[2,1].set_xlim(rstart,rstop)\n",
    "axArr[2,1].legend(fontsize=16,ncol=2)\n",
    "axArr[2,1].set_ylim(-0.05,1.05)"
   ]
  },
  {
   "cell_type": "markdown",
   "metadata": {},
   "source": [
    "### 6. Summary and further evolution\n",
    "\n",
    "the next phases get even more extreme. When does $^4$He start fusing in the core (the \"helium flash\")? Does that make sense in terms of the core temperature?\n",
    "\n",
    "Based on the graphs in Q2, why are the phases following the main sequence so much shorter? You might reason in terms of energy balance (fuel consumption) or core temperature (luminosity)\n",
    "\n",
    "Optional to find on your own using the data object d: \n",
    "\n",
    "--according to this calculation, what are the \"final\" mass and radius of the star? How can you explain that result for the mass?\n",
    "\n",
    "--what is the core made of in the end state?\n",
    "\n",
    "Note that the later stages starting with the \"helium flash\" are uncertain, and the details e.g. numbers for real stars have some uncertainty"
   ]
  },
  {
   "cell_type": "markdown",
   "metadata": {
    "scrolled": false
   },
   "source": []
  }
 ],
 "metadata": {
  "kernelspec": {
   "display_name": "Python 3",
   "language": "python",
   "name": "python3"
  },
  "language_info": {
   "codemirror_mode": {
    "name": "ipython",
    "version": 3
   },
   "file_extension": ".py",
   "mimetype": "text/x-python",
   "name": "python",
   "nbconvert_exporter": "python",
   "pygments_lexer": "ipython3",
   "version": "3.6.13"
  }
 },
 "nbformat": 4,
 "nbformat_minor": 2
}
