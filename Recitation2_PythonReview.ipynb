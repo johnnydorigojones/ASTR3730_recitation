{
 "cells": [
  {
   "cell_type": "markdown",
   "metadata": {},
   "source": [
    "# Solving Problems with Python: an Introduction to Data Science\n",
    "\n",
    "## Part 1: Python/Jupyter Basics (skip to part 2 if this is all comfortable to you)\n",
    "\n",
    "**1. What is Python?**\n",
    "\n",
    "Python is a *high-level interpreted* programming language. What does this mean? Python's higher-level syntax means that Python code is highly readable and much easier to intuitively understand than many lower-level langauges — this makes it a great language to learn and start your programming journey in! In Python you don't have to use excessive amounts of brackets or deal with many of the other syntax frustrations lower-level langauges often introduce. Python is an interpreted langauge, which means that it's easy to modify programs and run them in real time, but the downside is this makes it significantly slower than a lower level compiled langauge like C or Fortran. \n",
    "\n",
    "The best of both worlds may lie in an up-and-coming language like Julia, which boasts C-like performance but with higher-level Python syntax. Why learn Python then instead of something like Julia? It's still a little easier than Julia, but more importantly it is stabler and used more broadly across fields — making Python perhaps ***the*** most useful language you can learn today. Personally, I do not have any experience with Julia, but I have used Python extensively since I learned about it during my freshman/sophomore year of undegrad. If you wish to use Julia as your preferred language for this course, I will try to help with issues as much as I can, but will probably have to defer to Jason's expertise with Julia (of course Google is always good for debugging, too).\n",
    "\n",
    "**2. What can I use Python for?**\n",
    "\n",
    "Nearly anything! It's used for scientific research at universities and national labs (including NASA!) but it's also used extensively by web developers, game designers, and industry. \n",
    "\n",
    "**3. What will we be doing?**\n",
    "\n",
    "In this introductory session I hope to introduce to you the foundational skills required to use Python (and other languages should you choose to learn them), specifically with applications to real science/modelling problems! No prior understanding of coding required--we will learn together as we go!\n",
    "\n",
    "## Starting out\n",
    "\n",
    "You are running Python out of a Jupyter Notebook right now. I like them because they are easy to mesh text (like this) and code (like you will see below). Let's start by making sure you know how to open Jupyter notebook and saving your work to your personal folder (i.e. directory). If you opened this notebook you're probably okay, just make sure you remember how to do it later and ask me if you're having saving issues. You can make Python programs in any text editor and run them from the command line, something we might explore later, but for now we will work mostly out of notebooks for their ease of use.\n",
    "\n",
    "Jupyter notebooks have two kinds of cells — code and markdown. This is a markdown cell (which makes text formatting easy and also supports $\\LaTeX$ style math commands). You can change the cell type with the dropdown menu at the top of the page. Markdown cells are useful as notes to accompany your code/explain things.\n",
    "\n",
    "### Exercise 1: make your first markdown note\n",
    "\n",
    "Change the cell type below from code to markdown, and write \"Hello world!\". Run the cell by either clicking the \"Run\" button above or by pushing Shift+(Enter/Return). Next, modify the cell to italicize or bold the text (hint: double click this text to look at what I've one in this cell to format things)."
   ]
  },
  {
   "cell_type": "code",
   "execution_count": null,
   "metadata": {},
   "outputs": [],
   "source": []
  },
  {
   "cell_type": "markdown",
   "metadata": {},
   "source": [
    "### Exercise 2: say hello with code\n",
    "\n",
    "It's important to be able to interact with our code to understand what it's doing and effectively debug it, and the easiest way to do this is with the print() function. Here's an example:"
   ]
  },
  {
   "cell_type": "code",
   "execution_count": null,
   "metadata": {},
   "outputs": [],
   "source": [
    "#This is a comment: anything after a hashtag/pound/number sign will be ignored by the program,\n",
    "#so we can write whatever we want in plain english without causing an error!\n",
    "print(\"My name is Johnny!\")"
   ]
  },
  {
   "cell_type": "markdown",
   "metadata": {},
   "source": [
    "**Your turn:** write your own print command in the cell below to get the computer to say \"hello world\" — the classic first exercise in any programming language."
   ]
  },
  {
   "cell_type": "code",
   "execution_count": null,
   "metadata": {},
   "outputs": [],
   "source": [
    "#your code here\n"
   ]
  },
  {
   "cell_type": "markdown",
   "metadata": {},
   "source": [
    "### Exercise 3: variables\n",
    "\n",
    "Variables are an incredibly important part of any programming language. They allow us to store information for later use by the program, and we create them with the = sign (also known as the assignment operator). Here's an example:\n"
   ]
  },
  {
   "cell_type": "code",
   "execution_count": null,
   "metadata": {},
   "outputs": [],
   "source": [
    "x = 5 #here I have made a variable called x that has a value of 5\n",
    "print(x) #let's see what x is!"
   ]
  },
  {
   "cell_type": "markdown",
   "metadata": {},
   "source": [
    "**Your turn:** write your own code below that will save \"hello world\" to a variable, then print that variable to the console. "
   ]
  },
  {
   "cell_type": "code",
   "execution_count": null,
   "metadata": {},
   "outputs": [],
   "source": [
    "#your code here\n"
   ]
  },
  {
   "cell_type": "markdown",
   "metadata": {},
   "source": [
    "One type of variable you will commonly have to deal with are lists (i.e. arrays of data), so it's worth exploring the specific syntax for how to retrieve things from lists if you haven't seen it before.\n",
    "\n",
    "Here's an example user-defined list:\n",
    "\n",
    "```python \n",
    "myList = [1,2,3,4,5]\n",
    "```\n",
    "Python indexing starts from 0, so if we want to retrieve the first item in the list we would write: \n",
    "\n",
    "```python\n",
    "firstThing = myList[0]\n",
    "```\n",
    "\n",
    "There's also a nice trick for getting the last thing out of a list (or indexing from the end in general):\n",
    "\n",
    "```python\n",
    "lastThing = myList[-1]\n",
    "```\n",
    "We can take a slice of the data by doing something like:\n",
    "\n",
    "```python\n",
    "listSlice = myList[1:3] #this will make a new list ( [2,3,4] ) copied from a section of the original\n",
    "```\n",
    "We can also operate on lists with functions — here are three simple yet very handy ones:\n",
    "\n",
    "```python\n",
    "listMax = max(myList) #returns the entry with largest value\n",
    "listMin = min(myList) #returns the entry with the smallest value\n",
    "listLength = len(myList) #returns the number of entries in the list\n",
    "```\n",
    "\n",
    "**Your turn!** Try some of these operations on a made up list in the cell below:"
   ]
  },
  {
   "cell_type": "code",
   "execution_count": null,
   "metadata": {},
   "outputs": [],
   "source": [
    "#practice list operations here...\n"
   ]
  },
  {
   "cell_type": "markdown",
   "metadata": {},
   "source": [
    "#### Python variable rules cheat sheet:\n",
    "\n",
    "1. Variable names must be unique. If you name two things x it will only remember the second one.\n",
    "\n",
    "2. Variable names cannot start with a number. For example, ```variable1 = x``` is fine but ``` 1variable = x ``` is not.  \n",
    "\n",
    "3. No spaces! Variable names must be connected. You can combine multiple words with underscores (ie ``` my_variable = x ```) or using \"camelCase\" (ie ``` myVariable = x ```) \n",
    "\n",
    "4. Variables can be added/subtracted/etc together (as long as they're the same type) to create a new result (this is the most common way we use them). "
   ]
  },
  {
   "cell_type": "markdown",
   "metadata": {},
   "source": [
    "### Exercise 4: using modules\n",
    "\n",
    "By default Python only comes with a few parts \"turned on.\" This is to save memory/other computing resources for things you may not need. There are many extra packages that we can use in Python to do tasks that might otherwise take a long time, and to access these packages we import them. Here's an example using the random module, which allows us to generate random numbers on demand."
   ]
  },
  {
   "cell_type": "code",
   "execution_count": null,
   "metadata": {},
   "outputs": [],
   "source": [
    "import random #notice how the import statement is colored green--this means it's an important Python keyword\n",
    "\n",
    "randomNumber = random.randint(0,10) #get a random integer between 0 and 10\n",
    "print(randomNumber)"
   ]
  },
  {
   "cell_type": "markdown",
   "metadata": {},
   "source": [
    "**Your turn:** the two most commonly imported packages for scientists using Python are probably `numpy` and `matplotlib`. Test and make sure you have them installed by running the following lines of code:\n",
    "\n",
    "```python\n",
    "import matplotlib.pyplot as plt\n",
    "import numpy as np\n",
    "```\n",
    "\n",
    "Notice that we gave both packages an alias to make them easier to call (so we don't have to type matplotlib.pyplot anytime we want to do something related to plotting) but that alias is totally arbitrary. You can import it as unicorns if you want."
   ]
  },
  {
   "cell_type": "code",
   "execution_count": null,
   "metadata": {},
   "outputs": [],
   "source": [
    "#import the above modules here\n"
   ]
  },
  {
   "cell_type": "markdown",
   "metadata": {},
   "source": [
    "## Part 2: interacting with data\n",
    "\n",
    "Now that you know the basics, let's use your new skills to read in some sample data from a text file and make a plot! \n",
    "\n",
    "### Exercise 1: reading in data from a .txt file\n",
    "\n",
    "There are many different ways to do this, but I'm going to show you a common way that utilizes another popular library you can import directly from Anaconda — astropy! You don't *need* to import something to do this for you — it is possible in native Python and sometimes you must do it manually for poorly-behaved .txt files, which I am happy to show you how to do if you're interested — but in most cases you will probably want to worry more about processing your data than accessing it, so tools like astropy (another is called pandas) area great resource to save you time. \n",
    "\n",
    "Before you can use it you need to make sure you have the `dow.txt` file located in the same place (i.e. folder or directory) that this notebook is running from (you can also just explicitly use the specific filepath to this .txt file).\n",
    "\n",
    "Run the cell below to load in the data, which is a record of the daily closing value of the Dow Jones Industrial Average Index from 8/15/2007 to 6/4/2010...you might remember something dramatic happened between those dates..."
   ]
  },
  {
   "cell_type": "code",
   "execution_count": null,
   "metadata": {
    "scrolled": false
   },
   "outputs": [],
   "source": [
    "from astropy.table import Table #import Table from the module astropy.table \n",
    "dow_data = Table.read('dow.txt', format= 'ascii') # import table and specify its file format; other commmon file types \n",
    "                                                  # include CSV (comma-separated values) and FITS\n",
    "dow_data.rename_column('col_name', 'closing_value') #let's rename the column name to something more descriptive"
   ]
  },
  {
   "cell_type": "markdown",
   "metadata": {},
   "source": [
    "### Exercise 2: an introduction to plotting!\n",
    "\n",
    "So we have some data, but now what? As humans we like to look at things, so the next logical step is for us to figure out a way to display this dataset in graphical form. Luckily for us there is a robust library built into Python that can automagically do a lot of what we want. It's called matplotlib! Run the cell below to import it and get it set up for our notebook.\n"
   ]
  },
  {
   "cell_type": "code",
   "execution_count": null,
   "metadata": {},
   "outputs": [],
   "source": [
    "import matplotlib.pyplot as plt # \"as plt\" gives matplotlib.pyplot the alias \"plt\", so that we don't have to type \n",
    "                                #  matplotlib.pyplot everytime we use it.\n",
    "%matplotlib inline \n",
    "#the line above helps us display the plots easier/better in our Jupyter notebook\n",
    "#the % preceeding the statement is what's called a \"magic\" command -- there are many useful commands like this!"
   ]
  },
  {
   "cell_type": "markdown",
   "metadata": {},
   "source": [
    "We can get started right away by simply telling matplotlib to show us the data (no frills attached). To do this run ```plt.plot(dow_data['closing_value'])``` in the cell below:"
   ]
  },
  {
   "cell_type": "code",
   "execution_count": null,
   "metadata": {},
   "outputs": [],
   "source": [
    "#make the plot! \n"
   ]
  },
  {
   "cell_type": "markdown",
   "metadata": {},
   "source": [
    "#### Formatting:\n",
    "This isn't a very pretty plot right now. Any true scientist knows that you always need to label your axes and have a proper title at the very least! Luckily for us, these commands are very easy, and below I've added the commands you'll need to properly format your plot.\n",
    "\n",
    "To add a title: ```plt.title(\"your title here\")```\n",
    "\n",
    "To add a label to the x-axis: ```plt.xlabel(\"your label here\")```\n",
    "\n",
    "To add a label to the y-axis: ```plt.ylabel(\"your label here\")```\n",
    "\n",
    "To explicitly show the plot (if you don't like the Out[#] nonsense): ```plt.show()```)\n",
    "\n",
    "Each of these commands should go on its own line, ie\n",
    "```python\n",
    "plt.plot(myData)\n",
    "plt.title(\"Here's a plot of some data I have!\")\n",
    "plt.xlabel(\"x axis (units)\")\n",
    "plt.ylabel(\"y axis (units)\")\n",
    "plt.show() #not required since we have %matplotlib inline, but still good to know\n",
    "```\n",
    "\n",
    "**Your turn:** Make a new plot of the data with proper labels and a title."
   ]
  },
  {
   "cell_type": "code",
   "execution_count": null,
   "metadata": {},
   "outputs": [],
   "source": [
    "#your code here...\n"
   ]
  },
  {
   "cell_type": "markdown",
   "metadata": {},
   "source": [
    "Right now we are just plotting \"y\" values and matplotlib is assuming what our x values are automatically (using the 'index', which is just numbering them from 1 to the number of rows in the column). This isn't really great practice. So how can we change this to be more explicit?\n",
    "\n",
    "We can accomplish this easily with the help of our friend numpy. Import it (if you haven't already) by running the following code in the cell below:\n",
    "```python\n",
    "import numpy as np\n",
    "```"
   ]
  },
  {
   "cell_type": "code",
   "execution_count": null,
   "metadata": {},
   "outputs": [],
   "source": [
    "#import here\n"
   ]
  },
  {
   "cell_type": "markdown",
   "metadata": {},
   "source": [
    "```numpy``` has a nice built-in function we are going to use called ```linspace()``` that allows us to easily create a range of numbers automatically. Here's an example of how ```linspace()``` works:\n",
    "```python\n",
    "x_values = np.linspace(startValue, endValue, length) #startValue is where the list/array starts, endValue \n",
    "#where it ends, and length is the number of items the resulting list/array will have.\n",
    "```\n",
    "\n",
    "**Your turn:** Create an array of x values that **starts at 0 and ends at 100** (to represent percentage of time elapsed) using the ```linspace()``` function. The value you pass in for length should be **the same** as the length of the y values (you can find this out by printing ```len(dow_data['closing_value'])```)."
   ]
  },
  {
   "cell_type": "code",
   "execution_count": null,
   "metadata": {},
   "outputs": [],
   "source": [
    "#your code goes here\n"
   ]
  },
  {
   "cell_type": "markdown",
   "metadata": {},
   "source": [
    "### Exercise 3: more plotting\n",
    "\n",
    "Now that you have lists (of the same size) for both x and y, let's learn how to plot them together and alter the look. To plot two items together using only default values, you can simply run ```plt.plot(xValues, yValues)``` but what if we want to change the color/type of the line, add a label, or otherwise modify it?\n",
    "\n",
    "Here's a more complicated example (you should run it in a cell below and see the output to figure out what each part does):\n",
    "\n",
    "```python\n",
    "plt.plot(xCreatedAbove, dow_data['closing_value'], color = 'b', linestyle=\"--\", label = \"daily closing value\")\n",
    "plt.title(\"Value of the Dow Jones Industrial Average Index Over Time\")\n",
    "plt.xlabel(\"% time elapsed\")\n",
    "plt.ylabel(\"points\")\n",
    "plt.legend()\n",
    "plt.show()\n",
    "```\n",
    "\n",
    "**Your turn:** Modify your Dow plot to use the new x axis data points you just created, update the x label, and futz around with colors/labels/marker styles. "
   ]
  },
  {
   "cell_type": "code",
   "execution_count": null,
   "metadata": {},
   "outputs": [],
   "source": [
    "#your code goes here\n"
   ]
  },
  {
   "cell_type": "markdown",
   "metadata": {},
   "source": [
    "### Exercise 4: putting it all together\n",
    "\n",
    "Let's do a more astronomically relevant exercise...plotting the solar cycle! The solar cycle is one of the richest astronomical datasets we have — this particular dataset you're about to plot contains a monthly sunspot count for every month since January of 1749!\n",
    "\n",
    "You are tasked with the completing the following:\n",
    "\n",
    "1. Import the data file containing sunspot observations (`sunspots.txt`). This file contains continuous data recorded since January of 1749! Each entry is the total number of sunspots observed on the surface of the Sun for that month. Use astropy, pandas, or any other package you like — this time the dataset has two columns (month and counts) but there is still no header.\n",
    "2. Plot the data with the sunspot counts on the y-axis time on the x-axis. Does it look like this data is periodic? "
   ]
  },
  {
   "cell_type": "code",
   "execution_count": null,
   "metadata": {},
   "outputs": [],
   "source": [
    "#your solution to exercise 4 starts here: don't be afraid to break up parts into different cells!\n",
    "#one advantage of Jupyter notebooks is you can run code in bits and pieces...much easier to find bugs :)\n"
   ]
  },
  {
   "cell_type": "code",
   "execution_count": null,
   "metadata": {},
   "outputs": [],
   "source": [
    "#optional addendum -- a different way to read in the data\n",
    "#in case you're curious, here's a different (but still popular) package that can read in files for you\n",
    "#but with a little more fine-grained control than astropy or pandas\n",
    "import csv\n",
    "months = []\n",
    "sunspots = []\n",
    "with open(\"sunspots.txt\") as f: #the with loop is a cool Python trick that automagically closes the file when we're done\n",
    "    reader = csv.reader(f,delimiter = '\\t') #the file is tab separated\n",
    "    for row in reader:\n",
    "        months.append(float(row[0])) #first column is the month (0 starts at Jan 1749)\n",
    "        sunspots.append(float(row[1])) #second column is the number of sunspots in that month\n",
    "        \n",
    "#at the end of this we now have two lists -- one representing each column\n",
    "#we could then plot them like plt.plot(months,sunspots)..."
   ]
  },
  {
   "cell_type": "markdown",
   "metadata": {},
   "source": [
    "***Challenge -- let's do some science!*** \n",
    "----------------\n",
    "------\n",
    "3. Assuming the data is periodic, try to fit it with a $y=Asin^2(\\omega t + \\phi_0)$ style function. Guess from the graph to find the average amplitude, frequency, and phase shift for your fitted wave. \n",
    "4. Test your assumption by using a fast-fourier-transform (FFT). Sample code to get you started on this is below. Plot the results of the FFT and find the dominant frequency — how closely does it match your guess? You might notice that your guess from the $sin^2$ approximation is off by a factor of roughly 2 — why might this be? \n",
    "5. Compare the periodicity value you obtained from the FFT to the standard value for the solar cycle — how accurate is your analsyis? Use this data and your periodic sine wave model to predict when the next three solar maximums will happen.\n",
    "\n",
    "**FFT example code**\n",
    "\n",
    "```python\n",
    "from scipy.fftpack import fft, ifft #this is a way to import just parts of a package\n",
    "c = fft(data) #get fourier coefficients of data -- these include complex numbers\n",
    "cReal = np.abs(c) #magnitude of signal, no longer complex\n",
    "cReal[0] = 0 #the first component will be huge, but this is a non-physical mathematical artifact (DC level) so we set it to zero.\n",
    "plt.plot(cReal[0:len(cReal)//2]) #transform is symmetric so don't care about second half\n",
    "plt.show()\n",
    "\n",
    "#if you want to check it take the inverse fourier transform (ifft)\n",
    "plt.plot(ifft(c)) #should be the same graph as original data (or very very close)\n",
    "```\n",
    "\n",
    "The largest spike is the dominant frequency in the dataset, so you want to find *what index this occurs at* (ie what place it is on the x-axis). Recall that the x-axis here is a frequency space, which is spaced basically (technically depends on whether function is odd or even) like $f = \\frac{[0, 1, 2, ...]}{\\Delta t N}$ where $\\Delta t$ is the difference in time between each datapoint and N is the total number of data points. \n",
    "\n",
    "The largest spike is the dominant frequency in the dataset, so you want to find *what index this occurs at* (ie what place it is on the x-axis). Recall that the x-axis here is a frequency space, which is spaced like $f = \\frac{[0, 1, 2, ...]}{\\Delta t N}$ where $\\Delta t$ is the difference in time between each datapoint and N is the total number of data points. The data stops being useful at index $\\approx \\frac{N}{2}$ as the FFT is symmetric (the exact spot it becomes not useful depends on whether N is odd or even). \n",
    "\n",
    "If that's confusing and you don't want to think about it, numpy has a function for that too! You can call something like: \n",
    "\n",
    "```python\n",
    "freq = np.fft.fftfreq(len(sunspots),1/12) #first argument is number of data points, second is dt\n",
    "```\n",
    "\n",
    "And this will generate an array of frequencies that correspond to your data — so if you found the peak at index 42 you could find out what physical frequency that corresponds to by doing something like \n",
    "\n",
    "```python\n",
    "domFreq = freq[42]\n",
    "```"
   ]
  },
  {
   "cell_type": "code",
   "execution_count": null,
   "metadata": {},
   "outputs": [],
   "source": [
    "#your solution to the challenge...if you dare\n",
    "from scipy.fftpack import fft, ifft #this is a way to import just parts of a package\n",
    "\n",
    "# define your constants A, omega, and theta_0 (choose some values)\n",
    "# define list/array of values for t (use np.linspace like above)\n",
    "# calculate the fit (i.e. define y=A*sin^2...)\n",
    "\n",
    "c = fft(data) #get fourier coefficients of data -- these include complex numbers\n",
    "cReal = np.abs(c) #magnitude of signal, no longer complex\n",
    "cReal[0] = 0 #the first component will be huge, but this is a non-physical mathematical artifact (DC level) so we set it to zero.\n",
    "plt.plot(cReal[0:len(cReal)//2]) #transform is symmetric so don't care about second half\n",
    "plt.show()\n",
    "\n",
    "#if you want to check it take the inverse fourier transform (ifft)\n",
    "plt.plot(ifft(c)) #should be the same graph as original data (or very very close)"
   ]
  },
  {
   "cell_type": "markdown",
   "metadata": {},
   "source": [
    "### Hooray -- you did it! \n",
    "\n",
    "See, that wasn't *so* bad? Remember that coding (like anything else) is a skill that takes practice, so don't be discouraged if you had a hard time/didn't finish/didn't fully understand something -- for some of you this might have been your first hour ever programming! \n",
    "\n",
    "If you want to continue developing this skill and liked the format of this notebook, these notes are based off of an introductory course created by Kirk Long (2nd year grad student in APS). Those course materials (which are mostly notebooks like this with explanations + problems) are freely available on Kirk's [github](https://github.com/kirklong/PrisonOutreach). I'm also happy to help in general, so come to office hours or the Astronomy Help Room (AHR, Duane Room D220) while I'm there (2-4pm on Thursdays) if there's ever something programming related you think I might be able to help with."
   ]
  }
 ],
 "metadata": {
  "kernelspec": {
   "display_name": "Python 3",
   "language": "python",
   "name": "python3"
  },
  "language_info": {
   "codemirror_mode": {
    "name": "ipython",
    "version": 3
   },
   "file_extension": ".py",
   "mimetype": "text/x-python",
   "name": "python",
   "nbconvert_exporter": "python",
   "pygments_lexer": "ipython3",
   "version": "3.6.13"
  }
 },
 "nbformat": 4,
 "nbformat_minor": 4
}
